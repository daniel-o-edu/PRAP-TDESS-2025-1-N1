{
  "cells": [
    {
      "cell_type": "markdown",
      "metadata": {
        "id": "view-in-github",
        "colab_type": "text"
      },
      "source": [
        "<a href=\"https://colab.research.google.com/github/daniel-o-edu/PRAP-TDESS-2025-1-N1/blob/main/aula_15_crud.ipynb\" target=\"_parent\"><img src=\"https://colab.research.google.com/assets/colab-badge.svg\" alt=\"Open In Colab\"/></a>"
      ]
    },
    {
      "cell_type": "markdown",
      "source": [
        "### **Aula 15 - CRUD**\n",
        "\n",
        "**Título:** Do Zero ao Funcional: Construindo um CRUD de Agenda de Contatos com Python, SQLite e Tkinter.\n",
        "\n",
        "**Objetivos de Aprendizagem:** Ao final desta aula, o aluno será capaz de:\n",
        "\n",
        "1.  Compreender o que é um CRUD e sua importância no desenvolvimento de software.\n",
        "2.  Conectar uma aplicação Python a um banco de dados SQLite.\n",
        "3.  Criar, ler, atualizar e deletar dados em um banco de dados usando Python.\n",
        "4.  Construir uma interface gráfica simples (GUI) com a biblioteca Tkinter.\n",
        "5.  Integrar a lógica do backend (Python e DB) com o frontend (GUI).\n",
        "\n",
        "-----\n",
        "\n",
        "### **Módulo 1: Introdução e Configuração do Ambiente**\n",
        "\n",
        "#### **Tópico 1: Boas-vindas e O que é CRUD?**\n",
        "\n",
        "  * **Introdução:** \"Como o Instagram lembra das suas fotos? Como a sua agenda do celular salva um novo número?\". A resposta é: através de operações em um banco de dados.\n",
        "  * **O Acrônimo CRUD:**\n",
        "      * **C - Create (Criar):** Adicionar um novo dado. Ex: Postar uma nova foto, salvar um novo contato.\n",
        "      * **R - Read (Ler):** Consultar os dados existentes. Ex: Rolar o seu feed, procurar um contato na agenda.\n",
        "      * **U - Update (Atualizar):** Modificar um dado que já existe. Ex: Editar a legenda de uma foto, alterar o telefone de um amigo.\n",
        "      * **D - Delete (Deletar):** Remover um dado. Ex: Apagar um post, excluir um contato.\n",
        "  * **Analogia:** Pense no CRUD como as operações que você faz em uma estante de livros. Você pode `adicionar` um livro novo (Create), `procurar` um livro (Read), `mudar um livro de lugar` (Update) ou `retirar` um livro para doação (Delete). O CRUD é a base de quase todos os sistemas que você usa hoje.\n",
        "\n",
        "#### **Tópico 2: Nosso Projeto: Uma Agenda de Contatos Digital**\n",
        "\n",
        "  * **Objetivo:** Vamos construir uma aplicação de desktop para gerenciar contatos.\n",
        "  * **Funcionalidades:**\n",
        "    1.  Adicionar um novo contato (Nome, Telefone, E-mail).\n",
        "    2.  Visualizar todos os contatos em uma lista.\n",
        "    3.  Atualizar as informações de um contato existente.\n",
        "    4.  Excluir um contato da agenda.\n",
        "  * **Estrutura do Dado:** Cada contato terá: `ID` (identificador único), `Nome`, `Telefone`, `E-mail`.\n",
        "\n",
        "#### **Tópico 3: As Ferramentas que Usaremos**\n",
        "\n",
        "  * **Python:** A \"mente\" da nossa aplicação, onde escreveremos toda a lógica.\n",
        "  * **SQLite:** Nosso \"arquivo de armazenamento\" ou banco de dados.\n",
        "      * **Vantagem:** É um banco de dados super leve, que não precisa de instalação de um servidor. Ele salva tudo em um único arquivo no seu computador (`.db`). O Python já vem com um módulo para trabalhar com ele\\!\n",
        "  * **Tkinter:** Nossa \"tela, botões e campos de texto\".\n",
        "      * É a biblioteca padrão do Python para criar interfaces gráficas (GUI - Graphical User Interface). Já vem instalada com o Python, então não precisamos instalar nada a mais.\n",
        "\n",
        "**Exemplo Prático (Início do Código):**\n",
        "Crie um arquivo chamado `agenda_app.py` e adicione a estrutura inicial."
      ],
      "metadata": {
        "id": "PF3Qoc7FGGXj"
      }
    },
    {
      "cell_type": "code",
      "source": [
        "# Importando as bibliotecas necessárias\n",
        "import tkinter as tk\n",
        "from tkinter import ttk # ttk é um módulo com widgets mais modernos\n",
        "from tkinter import messagebox\n",
        "import sqlite3\n",
        "\n",
        "# ... o resto do nosso código virá aqui ...\n",
        "\n",
        "print(\"Estrutura inicial pronta!\")"
      ],
      "outputs": [],
      "execution_count": null,
      "metadata": {
        "id": "4F53ygx9GGXs"
      }
    },
    {
      "cell_type": "markdown",
      "source": [
        "-----\n",
        "\n",
        "### **Módulo 2: Backend - Conexão com DB e Funções \"Create\" e \"Read\"**\n",
        "\n",
        "#### **Tópico 4: Criando e Conectando ao Banco de Dados**\n",
        "\n",
        "  * Vamos criar uma função que se conecta ao banco de dados (ou cria o arquivo se ele não existir) e garante que a nossa tabela `contatos` esteja criada.\n",
        "\n",
        "**Exemplo Prático (Código):**"
      ],
      "metadata": {
        "id": "og9nM9ivGGXu"
      }
    },
    {
      "cell_type": "code",
      "source": [
        "# Função para conectar ao banco de dados e criar a tabela\n",
        "def conectar_db():\n",
        "    conn = sqlite3.connect('agenda.db')\n",
        "    return conn\n",
        "\n",
        "def criar_tabela():\n",
        "    conn = conectar_db()\n",
        "    cursor = conn.cursor()\n",
        "    # A instrução 'IF NOT EXISTS' evita erros se a tabela já foi criada\n",
        "    cursor.execute(\"\"\"\n",
        "    CREATE TABLE IF NOT EXISTS contatos (\n",
        "        id INTEGER PRIMARY KEY AUTOINCREMENT,\n",
        "        nome TEXT NOT NULL,\n",
        "        telefone TEXT NOT NULL,\n",
        "        email TEXT\n",
        "    )\n",
        "    \"\"\")\n",
        "    conn.close()\n",
        "\n",
        "# Chamamos a função no início para garantir que a tabela exista\n",
        "criar_tabela()"
      ],
      "outputs": [],
      "execution_count": null,
      "metadata": {
        "id": "58U14WhBGGXv"
      }
    },
    {
      "cell_type": "markdown",
      "source": [
        "* **Explicação do SQL:**\n",
        "      * `CREATE TABLE IF NOT EXISTS contatos`: Cria uma tabela chamada `contatos` somente se ela ainda não existir.\n",
        "      * `id INTEGER PRIMARY KEY AUTOINCREMENT`: Cria uma coluna `id` que é um número inteiro, a chave principal (identificador único) e que se auto-incrementa a cada novo contato.\n",
        "      * `nome TEXT NOT NULL`: Cria uma coluna `nome` do tipo texto que não pode ser vazia.\n",
        "\n",
        "#### **Tópico 5: A Lógica do \"Create\" e \"Read\"**\n",
        "\n",
        "  * Agora, vamos criar as funções Python que irão interagir com o banco de dados.\n",
        "\n",
        "**Exemplo Prático (Código):**"
      ],
      "metadata": {
        "id": "RlJ571JHGGXw"
      }
    },
    {
      "cell_type": "code",
      "source": [
        "# --- FUNÇÕES CRUD (Backend) ---\n",
        "\n",
        "# Função para Adicionar (Create)\n",
        "def adicionar_contato(nome, telefone, email):\n",
        "    if not nome or not telefone: # Validação simples\n",
        "        messagebox.showwarning(\"Aviso\", \"Nome e Telefone são obrigatórios!\")\n",
        "        return\n",
        "    conn = conectar_db()\n",
        "    cursor = conn.cursor()\n",
        "    # Usamos '?' para prevenir SQL Injection, uma boa prática de segurança\n",
        "    cursor.execute(\"INSERT INTO contatos (nome, telefone, email) VALUES (?, ?, ?)\",\n",
        "                   (nome, telefone, email))\n",
        "    conn.commit() # Salva (confirma) as mudanças\n",
        "    conn.close()\n",
        "    messagebox.showinfo(\"Sucesso\", \"Contato adicionado com sucesso!\")\n",
        "\n",
        "# Função para Visualizar (Read)\n",
        "def visualizar_contatos():\n",
        "    conn = conectar_db()\n",
        "    cursor = conn.cursor()\n",
        "    cursor.execute(\"SELECT * FROM contatos ORDER BY nome\")\n",
        "    contatos = cursor.fetchall() # Pega todos os resultados\n",
        "    conn.close()\n",
        "    return contatos"
      ],
      "outputs": [],
      "execution_count": null,
      "metadata": {
        "id": "PbiVuk5qGGXw"
      }
    },
    {
      "cell_type": "markdown",
      "source": [
        "* **Desafio Rápido:** Teste estas funções\\! Adicione no final do seu arquivo:"
      ],
      "metadata": {
        "id": "Lxw09xGKGGXx"
      }
    },
    {
      "cell_type": "code",
      "source": [
        "# adicionar_contato(\"Ana Silva\", \"99999-8888\", \"ana.silva@email.com\")\n",
        "    # print(visualizar_contatos())"
      ],
      "outputs": [],
      "execution_count": null,
      "metadata": {
        "id": "3fuG3i_zGGXx"
      }
    },
    {
      "cell_type": "markdown",
      "source": [
        "Execute o script e veja o resultado no console. Depois comente essas linhas.\n",
        "\n",
        "### **Módulo 3: Frontend - Criando a Interface Gráfica**\n",
        "\n",
        "#### **Tópico 6: Desenhando a Janela Principal**\n",
        "\n",
        "  * Vamos usar o Tkinter para criar a janela, os campos de entrada (`Entry`), os rótulos (`Label`) e os botões.\n",
        "\n",
        "**Exemplo Prático (Código):**"
      ],
      "metadata": {
        "id": "fptm5sM_GGXy"
      }
    },
    {
      "cell_type": "code",
      "source": [
        "# --- INTERFACE GRÁFICA (Frontend) ---\n",
        "class AgendaApp:\n",
        "    def __init__(self, root):\n",
        "        self.root = root\n",
        "        self.root.title(\"Agenda de Contatos\")\n",
        "        self.root.geometry(\"700x500\") # Largura x Altura\n",
        "\n",
        "        # --- Frame para os campos de entrada ---\n",
        "        frame_entradas = tk.Frame(self.root, pady=10)\n",
        "        frame_entradas.pack()\n",
        "\n",
        "        tk.Label(frame_entradas, text=\"Nome:\").grid(row=0, column=0, padx=5, pady=5)\n",
        "        self.entry_nome = tk.Entry(frame_entradas, width=30)\n",
        "        self.entry_nome.grid(row=0, column=1, padx=5, pady=5)\n",
        "\n",
        "        tk.Label(frame_entradas, text=\"Telefone:\").grid(row=1, column=0, padx=5, pady=5)\n",
        "        self.entry_telefone = tk.Entry(frame_entradas, width=30)\n",
        "        self.entry_telefone.grid(row=1, column=1, padx=5, pady=5)\n",
        "\n",
        "        tk.Label(frame_entradas, text=\"Email:\").grid(row=2, column=0, padx=5, pady=5)\n",
        "        self.entry_email = tk.Entry(frame_entradas, width=30)\n",
        "        self.entry_email.grid(row=2, column=1, padx=5, pady=5)\n",
        "\n",
        "        # --- Frame para os botões ---\n",
        "        frame_botoes = tk.Frame(self.root, pady=10)\n",
        "        frame_botoes.pack()\n",
        "\n",
        "        # Por enquanto, os botões não fazem nada (command=None)\n",
        "        tk.Button(frame_botoes, text=\"Adicionar\").pack(side=tk.LEFT, padx=5)\n",
        "        tk.Button(frame_botoes, text=\"Atualizar\").pack(side=tk.LEFT, padx=5)\n",
        "        tk.Button(frame_botoes, text=\"Deletar\").pack(side=tk.LEFT, padx=5)\n",
        "        tk.Button(frame_botoes, text=\"Limpar Campos\").pack(side=tk.LEFT, padx=5)\n",
        "\n",
        "# --- INICIALIZAÇÃO DA APLICAÇÃO ---\n",
        "if __name__ == \"__main__\":\n",
        "    criar_tabela() # Garante que a tabela exista ao iniciar\n",
        "    root = tk.Tk()\n",
        "    app = AgendaApp(root)\n",
        "    root.mainloop()"
      ],
      "outputs": [],
      "execution_count": null,
      "metadata": {
        "id": "73QUvLjtGGXz"
      }
    },
    {
      "cell_type": "markdown",
      "source": [
        "* **Explicação:**\n",
        "      * Usamos uma `class` para organizar melhor nosso código da interface.\n",
        "      * `Frames` são como caixas para organizar outros widgets.\n",
        "      * `.pack()` e `.grid()` são gerenciadores de geometria que posicionam os elementos na janela.\n",
        "\n",
        "#### **Tópico 7: Exibindo os Dados (Read) na Interface**\n",
        "\n",
        "  * Vamos usar um widget chamado `TreeView` para mostrar os contatos em uma tabela bonita e organizada.\n",
        "\n",
        "**Exemplo Prático (Adicionar ao `__init__` da classe `AgendaApp`):**"
      ],
      "metadata": {
        "id": "nABpj0i8GGX0"
      }
    },
    {
      "cell_type": "code",
      "source": [
        "# (Dentro do __init__ da classe AgendaApp, depois do frame_botoes)\n",
        "\n",
        "# --- TreeView para exibir os contatos ---\n",
        "self.tree = ttk.Treeview(self.root, columns=(\"ID\", \"Nome\", \"Telefone\", \"Email\"), show='headings')\n",
        "self.tree.heading(\"ID\", text=\"ID\")\n",
        "self.tree.heading(\"Nome\", text=\"Nome\")\n",
        "self.tree.heading(\"Telefone\", text=\"Telefone\")\n",
        "self.tree.heading(\"Email\", text=\"Email\")\n",
        "\n",
        "# Definindo a largura das colunas\n",
        "self.tree.column(\"ID\", width=40)\n",
        "self.tree.column(\"Nome\", width=200)\n",
        "self.tree.column(\"Telefone\", width=120)\n",
        "self.tree.column(\"Email\", width=200)\n",
        "\n",
        "self.tree.pack(pady=20, padx=20, fill=\"both\", expand=True)\n",
        "\n",
        "# Vamos criar um método para atualizar a lista\n",
        "self.atualizar_lista_contatos()"
      ],
      "outputs": [],
      "execution_count": null,
      "metadata": {
        "id": "h_6v7AhkGGX0"
      }
    },
    {
      "cell_type": "markdown",
      "source": [
        "**Exemplo Prático (Criar um novo método na classe `AgendaApp`):**"
      ],
      "metadata": {
        "id": "-8-jnLMjGGX0"
      }
    },
    {
      "cell_type": "code",
      "source": [
        "# (Dentro da classe AgendaApp)\n",
        "def atualizar_lista_contatos(self):\n",
        "    # Limpa a TreeView antes de carregar novos dados\n",
        "    for i in self.tree.get_children():\n",
        "        self.tree.delete(i)\n",
        "\n",
        "    # Busca os contatos do banco de dados\n",
        "    contatos = visualizar_contatos() # Usando a função que já criamos!\n",
        "\n",
        "    # Insere cada contato na TreeView\n",
        "    for contato in contatos:\n",
        "        self.tree.insert(\"\", \"end\", values=contato)"
      ],
      "outputs": [],
      "execution_count": null,
      "metadata": {
        "id": "bMDJ64RTGGX0"
      }
    },
    {
      "cell_type": "markdown",
      "source": [
        "-----\n",
        "\n",
        "### **Módulo 4: Integração Final, Funções \"Update\" e \"Delete\" e Próximos Passos**\n",
        "\n",
        "#### **Tópico 8: Conectando os Botões e Implementando U e D**\n",
        "\n",
        "  * Agora a mágica acontece\\! Vamos conectar os botões às funções do backend e implementar a lógica para Update e Delete.\n",
        "\n",
        "**1. Lógica do Backend (Criar novas funções):**"
      ],
      "metadata": {
        "id": "jYYhB9cCGGX1"
      }
    },
    {
      "cell_type": "code",
      "source": [
        "# Função para Atualizar (Update)\n",
        "def atualizar_contato(id, nome, telefone, email):\n",
        "    conn = conectar_db()\n",
        "    cursor = conn.cursor()\n",
        "    cursor.execute(\"\"\"\n",
        "    UPDATE contatos SET nome = ?, telefone = ?, email = ? WHERE id = ?\n",
        "    \"\"\", (nome, telefone, email, id))\n",
        "    conn.commit()\n",
        "    conn.close()\n",
        "    messagebox.showinfo(\"Sucesso\", \"Contato atualizado com sucesso!\")\n",
        "\n",
        "# Função para Deletar (Delete)\n",
        "def deletar_contato(id):\n",
        "    conn = conectar_db()\n",
        "    cursor = conn.cursor()\n",
        "    cursor.execute(\"DELETE FROM contatos WHERE id = ?\", (id,))\n",
        "    conn.commit()\n",
        "    conn.close()\n",
        "    messagebox.showinfo(\"Sucesso\", \"Contato deletado com sucesso!\")"
      ],
      "outputs": [],
      "execution_count": null,
      "metadata": {
        "id": "FcsJ6khtGGX1"
      }
    },
    {
      "cell_type": "markdown",
      "source": [
        "**2. Integração no Frontend (Modificar a classe `AgendaApp`):**\n",
        "\n",
        "  * Crie métodos na classe que chamem essas funções.\n",
        "  * Conecte os botões usando o parâmetro `command`.\n",
        "  * Adicione uma função para pegar o item selecionado na `TreeView`.\n",
        "\n",
        "**(Código Final da Classe `AgendaApp` e seus métodos):**\n",
        "*Adicione estes métodos à classe e atualize os botões no `__init__`.*"
      ],
      "metadata": {
        "id": "qpZhZyepGGX1"
      }
    },
    {
      "cell_type": "code",
      "source": [
        "# (Dentro da classe AgendaApp)\n",
        "\n",
        "def adicionar(self):\n",
        "    nome = self.entry_nome.get()\n",
        "    telefone = self.entry_telefone.get()\n",
        "    email = self.entry_email.get()\n",
        "    adicionar_contato(nome, telefone, email)\n",
        "    self.limpar_campos()\n",
        "    self.atualizar_lista_contatos()\n",
        "\n",
        "def atualizar(self):\n",
        "    selected_item = self.tree.selection()\n",
        "    if not selected_item:\n",
        "        messagebox.showwarning(\"Aviso\", \"Selecione um contato para atualizar.\")\n",
        "        return\n",
        "\n",
        "    id_contato = self.tree.item(selected_item, \"values\")[0]\n",
        "    nome = self.entry_nome.get()\n",
        "    telefone = self.entry_telefone.get()\n",
        "    email = self.entry_email.get()\n",
        "\n",
        "    atualizar_contato(id_contato, nome, telefone, email)\n",
        "    self.limpar_campos()\n",
        "    self.atualizar_lista_contatos()\n",
        "\n",
        "def deletar(self):\n",
        "    selected_item = self.tree.selection()\n",
        "    if not selected_item:\n",
        "        messagebox.showwarning(\"Aviso\", \"Selecione um contato para deletar.\")\n",
        "        return\n",
        "\n",
        "    if messagebox.askyesno(\"Confirmar\", \"Tem certeza que deseja deletar este contato?\"):\n",
        "        id_contato = self.tree.item(selected_item, \"values\")[0]\n",
        "        deletar_contato(id_contato)\n",
        "        self.limpar_campos()\n",
        "        self.atualizar_lista_contatos()\n",
        "\n",
        "def limpar_campos(self):\n",
        "    self.entry_nome.delete(0, tk.END)\n",
        "    self.entry_telefone.delete(0, tk.END)\n",
        "    self.entry_email.delete(0, tk.END)\n",
        "\n",
        "def ao_selecionar(self, event):\n",
        "    selected_item = self.tree.selection()\n",
        "    if not selected_item:\n",
        "        return\n",
        "\n",
        "    self.limpar_campos()\n",
        "    item = self.tree.item(selected_item, \"values\")\n",
        "    # item[0] é o ID, item[1] é o Nome, etc.\n",
        "    self.entry_nome.insert(0, item[1])\n",
        "    self.entry_telefone.insert(0, item[2])\n",
        "    self.entry_email.insert(0, item[3])\n",
        "\n",
        "# No __init__, atualize os botões e adicione o bind:\n",
        "# tk.Button(frame_botoes, text=\"Adicionar\", command=self.adicionar).pack(...)\n",
        "# tk.Button(frame_botoes, text=\"Atualizar\", command=self.atualizar).pack(...)\n",
        "# tk.Button(frame_botoes, text=\"Deletar\", command=self.deletar).pack(...)\n",
        "# tk.Button(frame_botoes, text=\"Limpar Campos\", command=self.limpar_campos).pack(...)\n",
        "# self.tree.bind(\"<<TreeviewSelect>>\", self.ao_selecionar)"
      ],
      "outputs": [],
      "execution_count": null,
      "metadata": {
        "id": "CfP6RWxdGGX2"
      }
    },
    {
      "cell_type": "markdown",
      "source": [
        "#### **Tópico 9: Revisão, Dúvidas e Próximos Passos**\n",
        "\n",
        "  * **Revisão:** Percorra o fluxo completo:\n",
        "    1.  Usuário digita os dados e clica em \"Adicionar\".\n",
        "    2.  O método `adicionar` da classe é chamado.\n",
        "    3.  Ele pega os dados dos `Entrys` e chama a função `adicionar_contato`.\n",
        "    4.  A função `adicionar_contato` executa um `INSERT` no banco de dados.\n",
        "    5.  A lista de contatos na tela é atualizada.\n",
        "  * **Sessão de Dúvidas.**\n",
        "  * **Desafios para Casa / Próximos Passos:**\n",
        "    1.  **Campo de Busca:** Adicionar um campo de busca que filtre os contatos por nome.\n",
        "    2.  **Validação:** Melhorar a validação (ex: verificar se o telefone contém apenas números).\n",
        "    3.  **Estilização:** Pesquisar sobre a biblioteca `CustomTkinter` para deixar o visual da aplicação mais moderno.\n",
        "    4.  **Executável:** Pesquisar sobre a biblioteca `PyInstaller` para transformar seu script Python em um programa executável (`.exe`) que pode ser compartilhado.\n",
        "\n",
        "-----\n",
        "\n",
        "### **Fontes da Internet para Aprofundamento**\n",
        "\n",
        "1.  **Documentação Oficial do Tkinter:** [Tkinter Docs](https://docs.python.org/3/library/tkinter.html) - A fonte primária de informação, ótima para consulta.\n",
        "2.  **Tutorial de SQLite em Python:** [Real Python - SQLite](https://realpython.com/python-sqlite-sqlalchemy/) - Um guia completo e prático sobre como usar SQLite com Python.\n",
        "3.  **Tutorial de Treeview:** [Python-Course.eu](https://www.google.com/search?q=https://python-course.eu/tkinter/tkinter-treeview.php) - Ótimos exemplos de como usar o widget Treeview.\n",
        "4.  **O que é CRUD (em português)?** [Blog da Alura](https://www.google.com/search?q=https://www.alura.com.br/artigos/crud-o-que-e) - Uma explicação conceitual clara e direta."
      ],
      "metadata": {
        "id": "cZ7c3h4xGGX2"
      }
    }
  ],
  "metadata": {
    "colab": {
      "provenance": [],
      "include_colab_link": true
    },
    "kernelspec": {
      "display_name": "Python 3",
      "name": "python3"
    }
  },
  "nbformat": 4,
  "nbformat_minor": 0
}